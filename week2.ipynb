{
  "cells": [
    {
      "cell_type": "markdown",
      "metadata": {
        "id": "view-in-github",
        "colab_type": "text"
      },
      "source": [
        "<a href=\"https://colab.research.google.com/github/Yang-HA-03/AI-lab/blob/main/week2.ipynb\" target=\"_parent\"><img src=\"https://colab.research.google.com/assets/colab-badge.svg\" alt=\"Open In Colab\"/></a>"
      ]
    },
    {
      "cell_type": "code",
      "source": [
        "# ==== PyTorch & CUDA self-check ====\n",
        "try:\n",
        "    import torch\n",
        "    print(\"✓ PyTorch is successfully imported!\")\n",
        "    print(f\"PyTorch version: {torch.__version__}\")\n",
        "\n",
        "    if torch.cuda.is_available():\n",
        "        device = torch.device(\"cuda\")\n",
        "        print(f\"✓ CUDA is available! Device count: {torch.cuda.device_count()}\")\n",
        "        print(f\"Current CUDA device: {torch.cuda.get_device_name(0)}\")\n",
        "    else:\n",
        "\n",
        "        device = torch.device(\"cpu\")\n",
        "        print(\"✗ CUDA is not available. Using CPU.\")\n",
        "\n",
        "\n",
        "    test_tensor = torch.tensor([1, 2, 3, 4, 5], device=device)\n",
        "    print(f\"✓ Test tensor created: {test_tensor}\")\n",
        "    print(f\"Tensor shape: {test_tensor.shape}\")\n",
        "    print(f\"Tensor device: {test_tensor.device}\")\n",
        "\n",
        "\n",
        "    squared_tensor = test_tensor ** 2\n",
        "    print(f\"✓ Basic operation test (squaring): {squared_tensor}\")\n",
        "    print(\"\\n🎉 PyTorch is working correctly on\", device, \"!\")\n",
        "\n",
        "except ImportError as e:\n",
        "    print(\"✗ PyTorch is not installed or not available\")\n",
        "    print(f\"Error details: {e}\")\n",
        "    print(\"Please install PyTorch using: pip install torch\")\n",
        "except Exception as e:\n",
        "    print(f\"✗ An error occurred while testing PyTorch: {e}\")\n"
      ],
      "metadata": {
        "id": "9MHkZJx9s0NP",
        "outputId": "a71276da-b064-456f-af26-a98f586741c3",
        "colab": {
          "base_uri": "https://localhost:8080/"
        }
      },
      "execution_count": 3,
      "outputs": [
        {
          "output_type": "stream",
          "name": "stdout",
          "text": [
            "✓ PyTorch is successfully imported!\n",
            "PyTorch version: 2.8.0+cu126\n",
            "✓ CUDA is available! Device count: 1\n",
            "Current CUDA device: Tesla T4\n",
            "✓ Test tensor created: tensor([1, 2, 3, 4, 5], device='cuda:0')\n",
            "Tensor shape: torch.Size([5])\n",
            "Tensor device: cuda:0\n",
            "✓ Basic operation test (squaring): tensor([ 1,  4,  9, 16, 25], device='cuda:0')\n",
            "\n",
            "🎉 PyTorch is working correctly on cuda !\n"
          ]
        }
      ]
    },
    {
      "cell_type": "code",
      "source": [],
      "metadata": {
        "id": "R_k-jInttLvQ"
      },
      "execution_count": null,
      "outputs": []
    }
  ],
  "metadata": {
    "colab": {
      "name": "Colab 시작하기",
      "toc_visible": true,
      "provenance": [],
      "gpuType": "T4",
      "include_colab_link": true
    },
    "kernelspec": {
      "display_name": "Python 3",
      "name": "python3"
    },
    "accelerator": "GPU"
  },
  "nbformat": 4,
  "nbformat_minor": 0
}